{
 "cells": [
  {
   "cell_type": "markdown",
   "metadata": {},
   "source": [
    "# Uncertainty analysis in ORES model\n",
    "\n",
    "In this notebook, we want to analyze how the ORES model, which is inherently a XGBoost, have different levels of uncertainties of its predicitons for different groups of users. We would like to explore if there are correlations between the models' uncertainties, prediction scores, errors and user groups, and how could this potentially be used as a cue for reviewers to determine whether they should trust the model, thus reducing bias. \n",
    "\n",
    "### Definition of \"Uncertainty\"\n",
    "\n",
    "- In the original ORES model, threshold is set arbitrarily to 0.5. \n",
    "- Margin: yi*f(xi)\n",
    "- Prediction interval\n",
    "- Mean and std\n",
    "- Entropy\n"
   ]
  },
  {
   "cell_type": "markdown",
   "metadata": {},
   "source": [
    "## Build ORES"
   ]
  },
  {
   "cell_type": "code",
   "execution_count": 220,
   "metadata": {},
   "outputs": [],
   "source": [
    "import sys\n",
    "import numpy as np\n",
    "import pandas as pd\n",
    "import collections\n",
    "from sklearn.model_selection import train_test_split\n",
    "from sklearn.metrics import classification_report, confusion_matrix\n",
    "from sklearn.ensemble import GradientBoostingClassifier\n",
    "from sklearn.metrics import confusion_matrix\n",
    "from sklearn.model_selection import cross_validate\n",
    "from sklearn import metrics\n",
    "from collections import OrderedDict\n",
    "from sklearn.model_selection import train_test_split\n",
    "from sklearn.metrics import accuracy_score, roc_auc_score, balanced_accuracy_score, f1_score, precision_score, recall_score"
   ]
  },
  {
   "cell_type": "code",
   "execution_count": 170,
   "metadata": {},
   "outputs": [],
   "source": [
    "# read in data\n",
    "df = pd.read_csv('data/enwiki.labeled_revisions.20k_2015.csv')\n",
    "df = df.dropna()"
   ]
  },
  {
   "cell_type": "code",
   "execution_count": 171,
   "metadata": {},
   "outputs": [],
   "source": [
    "# Combine anon and new to a 3-category new feature, anonymous, newcomers, experienced\n",
    "newcomer_seconds = 3.637819e+06\n",
    "\n",
    "conditions = [\n",
    "    (df['feature.revision.user.is_anon'] == True),\n",
    "    (df['feature.revision.user.is_anon'] == False) & (df['feature.temporal.revision.user.seconds_since_registration'] < newcomer_seconds),\n",
    "    (df['feature.revision.user.is_anon'] == False) & (df['feature.temporal.revision.user.seconds_since_registration'] >= newcomer_seconds)]\n",
    "choices = [0,1,2]\n",
    "df['user.type'] = np.select(conditions, choices)"
   ]
  },
  {
   "cell_type": "code",
   "execution_count": 172,
   "metadata": {},
   "outputs": [],
   "source": [
    "# add in sample weights\n",
    "df['sample_weight'] = np.where(df['damaging']==True, 10, 1)"
   ]
  },
  {
   "cell_type": "code",
   "execution_count": 173,
   "metadata": {},
   "outputs": [],
   "source": [
    "# delete the two sensitive features\n",
    "df = df.drop(['feature.revision.user.is_anon', 'feature.temporal.revision.user.seconds_since_registration'], axis=1)"
   ]
  },
  {
   "cell_type": "code",
   "execution_count": 174,
   "metadata": {},
   "outputs": [],
   "source": [
    "# convert user.type to categorical\n",
    "df['user.type'] = pd.Categorical(df['user.type'])"
   ]
  },
  {
   "cell_type": "code",
   "execution_count": 175,
   "metadata": {},
   "outputs": [],
   "source": [
    "# divide into X, X_weights and y\n",
    "y = df[\"damaging\"]\n",
    "X_with_weights = df.iloc[:,4:].copy()"
   ]
  },
  {
   "cell_type": "code",
   "execution_count": 176,
   "metadata": {},
   "outputs": [],
   "source": [
    "# split into train and test set\n",
    "X_with_weights_train, X_with_weights_test, y_train, y_test = train_test_split(X_with_weights, y, test_size=0.3, random_state=42)"
   ]
  },
  {
   "cell_type": "code",
   "execution_count": 177,
   "metadata": {},
   "outputs": [],
   "source": [
    "# split train with weight to train and weight\n",
    "X_train = X_with_weights_train.iloc[:,:-1].copy()\n",
    "X_train_weights = X_with_weights_train.iloc[:,-1].copy()\n",
    "X_test = X_with_weights_test.iloc[:,:-1].copy()"
   ]
  },
  {
   "cell_type": "code",
   "execution_count": 178,
   "metadata": {},
   "outputs": [],
   "source": [
    "# parameters from \n",
    "#https://github.com/wikimedia/editquality/blob/master/model_info/enwiki.damaging.md\n",
    "params= {'min_impurity_decrease': 0.0, \n",
    "         'loss': 'deviance', \n",
    "         'n_estimators': 700, \n",
    "         'min_impurity_split': None, \n",
    "         'verbose': 0, \n",
    "         'criterion': 'friedman_mse', \n",
    "         'subsample': 1.0, \n",
    "         #'center': True, \n",
    "         #'scale': True, \n",
    "         'presort': 'auto', \n",
    "         'init': None, \n",
    "         #'multilabel': False, \n",
    "         'max_depth': 7, \n",
    "         'random_state': None, \n",
    "         'learning_rate': 0.01, \n",
    "         'validation_fraction': 0.1, \n",
    "         'warm_start': False, \n",
    "         'min_samples_split': 2, \n",
    "         'min_samples_leaf': 1, \n",
    "         'min_weight_fraction_leaf': 0.0, \n",
    "         'n_iter_no_change': None, \n",
    "         'max_leaf_nodes': None, \n",
    "         'tol': 0.0001, \n",
    "         'max_features': 'log2'}\n",
    "         #'labels': [True, False], \n",
    "         #'label_weights': OrderedDict([(True, 10)])"
   ]
  },
  {
   "cell_type": "code",
   "execution_count": 179,
   "metadata": {},
   "outputs": [
    {
     "name": "stderr",
     "output_type": "stream",
     "text": [
      "/Library/Frameworks/Python.framework/Versions/3.6/lib/python3.6/site-packages/sklearn/ensemble/_gb.py:1342: FutureWarning: The parameter 'presort' is deprecated and has no effect. It will be removed in v0.24. You can suppress this warning by not passing any value to the 'presort' parameter. We also recommend using HistGradientBoosting models instead.\n",
      "  FutureWarning)\n"
     ]
    },
    {
     "data": {
      "text/plain": [
       "GradientBoostingClassifier(ccp_alpha=0.0, criterion='friedman_mse', init=None,\n",
       "                           learning_rate=0.01, loss='deviance', max_depth=7,\n",
       "                           max_features='log2', max_leaf_nodes=None,\n",
       "                           min_impurity_decrease=0.0, min_impurity_split=None,\n",
       "                           min_samples_leaf=1, min_samples_split=2,\n",
       "                           min_weight_fraction_leaf=0.0, n_estimators=700,\n",
       "                           n_iter_no_change=None, presort='auto',\n",
       "                           random_state=None, subsample=1.0, tol=0.0001,\n",
       "                           validation_fraction=0.1, verbose=0,\n",
       "                           warm_start=False)"
      ]
     },
     "execution_count": 179,
     "metadata": {},
     "output_type": "execute_result"
    }
   ],
   "source": [
    "# Training\n",
    "gb_clf_replicate = GradientBoostingClassifier(**params)\n",
    "gb_clf_replicate.fit(X_train, y_train, sample_weight=X_train_weights)"
   ]
  },
  {
   "cell_type": "markdown",
   "metadata": {},
   "source": [
    "## Margin"
   ]
  },
  {
   "cell_type": "code",
   "execution_count": 228,
   "metadata": {},
   "outputs": [
    {
     "data": {
      "text/plain": [
       "0.9522084195997239"
      ]
     },
     "execution_count": 228,
     "metadata": {},
     "output_type": "execute_result"
    }
   ],
   "source": [
    "accuracy_score(y_test, gb_clf_replicate.predict(X_test))"
   ]
  },
  {
   "cell_type": "code",
   "execution_count": 229,
   "metadata": {},
   "outputs": [],
   "source": [
    "true_labels = (y_test.astype(int)-0.5)*2\n",
    "pred_scores = (gb_clf_replicate.predict_proba(X_test)[:,1]-0.5)*2"
   ]
  },
  {
   "cell_type": "code",
   "execution_count": 230,
   "metadata": {},
   "outputs": [],
   "source": [
    "margins = true_labels * pred_scores"
   ]
  },
  {
   "cell_type": "code",
   "execution_count": 231,
   "metadata": {},
   "outputs": [
    {
     "data": {
      "text/plain": [
       "0.9522084195997239"
      ]
     },
     "execution_count": 231,
     "metadata": {},
     "output_type": "execute_result"
    }
   ],
   "source": [
    "np.sum(margins >= 0, axis=0)/len(margins)"
   ]
  },
  {
   "cell_type": "code",
   "execution_count": 232,
   "metadata": {},
   "outputs": [],
   "source": [
    "df_test = pd.DataFrame(columns = ['label', 'pred_label', 'pred_score', 'pred_type', 'user.type', 'margin'])\n",
    "df_test['label'] = y_test\n",
    "df_test['pred_label'] = gb_clf_replicate.predict(X_test)\n",
    "df_test['pred_score'] = gb_clf_replicate.predict_proba(X_test)[:,1]\n",
    "df_test['user.type'] = X_test.iloc[:,-1].copy().astype(str)\n",
    "df_test['margin'] = margins"
   ]
  },
  {
   "cell_type": "code",
   "execution_count": 233,
   "metadata": {},
   "outputs": [
    {
     "name": "stderr",
     "output_type": "stream",
     "text": [
      "/Library/Frameworks/Python.framework/Versions/3.6/lib/python3.6/site-packages/ipykernel_launcher.py:6: SettingWithCopyWarning: \n",
      "A value is trying to be set on a copy of a slice from a DataFrame\n",
      "\n",
      "See the caveats in the documentation: https://pandas.pydata.org/pandas-docs/stable/user_guide/indexing.html#returning-a-view-versus-a-copy\n",
      "  \n",
      "/Library/Frameworks/Python.framework/Versions/3.6/lib/python3.6/site-packages/ipykernel_launcher.py:9: SettingWithCopyWarning: \n",
      "A value is trying to be set on a copy of a slice from a DataFrame\n",
      "\n",
      "See the caveats in the documentation: https://pandas.pydata.org/pandas-docs/stable/user_guide/indexing.html#returning-a-view-versus-a-copy\n",
      "  if __name__ == '__main__':\n",
      "/Library/Frameworks/Python.framework/Versions/3.6/lib/python3.6/site-packages/ipykernel_launcher.py:11: SettingWithCopyWarning: \n",
      "A value is trying to be set on a copy of a slice from a DataFrame\n",
      "\n",
      "See the caveats in the documentation: https://pandas.pydata.org/pandas-docs/stable/user_guide/indexing.html#returning-a-view-versus-a-copy\n",
      "  # This is added back by InteractiveShellApp.init_path()\n",
      "/Library/Frameworks/Python.framework/Versions/3.6/lib/python3.6/site-packages/ipykernel_launcher.py:4: SettingWithCopyWarning: \n",
      "A value is trying to be set on a copy of a slice from a DataFrame\n",
      "\n",
      "See the caveats in the documentation: https://pandas.pydata.org/pandas-docs/stable/user_guide/indexing.html#returning-a-view-versus-a-copy\n",
      "  after removing the cwd from sys.path.\n"
     ]
    }
   ],
   "source": [
    "for i, row in df_test.iterrows():\n",
    "    if (row['label'] == row['pred_label']):\n",
    "        if (row['label']== True):\n",
    "            df_test['pred_type'][i] = \"TP\"\n",
    "        else:\n",
    "            df_test['pred_type'][i] = \"TN\"\n",
    "    else:\n",
    "        if (row['pred_label'] == True):\n",
    "            df_test['pred_type'][i] = \"FP\"\n",
    "        else:\n",
    "            df_test['pred_type'][i] = \"FN\""
   ]
  },
  {
   "cell_type": "code",
   "execution_count": 234,
   "metadata": {},
   "outputs": [
    {
     "data": {
      "text/html": [
       "<div>\n",
       "<style scoped>\n",
       "    .dataframe tbody tr th:only-of-type {\n",
       "        vertical-align: middle;\n",
       "    }\n",
       "\n",
       "    .dataframe tbody tr th {\n",
       "        vertical-align: top;\n",
       "    }\n",
       "\n",
       "    .dataframe thead th {\n",
       "        text-align: right;\n",
       "    }\n",
       "</style>\n",
       "<table border=\"1\" class=\"dataframe\">\n",
       "  <thead>\n",
       "    <tr style=\"text-align: right;\">\n",
       "      <th></th>\n",
       "      <th>label</th>\n",
       "      <th>pred_label</th>\n",
       "      <th>pred_score</th>\n",
       "      <th>pred_type</th>\n",
       "      <th>user.type</th>\n",
       "      <th>margin</th>\n",
       "    </tr>\n",
       "  </thead>\n",
       "  <tbody>\n",
       "    <tr>\n",
       "      <th>7829</th>\n",
       "      <td>False</td>\n",
       "      <td>False</td>\n",
       "      <td>0.083998</td>\n",
       "      <td>TN</td>\n",
       "      <td>0</td>\n",
       "      <td>0.832004</td>\n",
       "    </tr>\n",
       "    <tr>\n",
       "      <th>12969</th>\n",
       "      <td>False</td>\n",
       "      <td>False</td>\n",
       "      <td>0.006439</td>\n",
       "      <td>TN</td>\n",
       "      <td>2</td>\n",
       "      <td>0.987122</td>\n",
       "    </tr>\n",
       "    <tr>\n",
       "      <th>13978</th>\n",
       "      <td>False</td>\n",
       "      <td>False</td>\n",
       "      <td>0.029957</td>\n",
       "      <td>TN</td>\n",
       "      <td>2</td>\n",
       "      <td>0.940086</td>\n",
       "    </tr>\n",
       "    <tr>\n",
       "      <th>9035</th>\n",
       "      <td>False</td>\n",
       "      <td>False</td>\n",
       "      <td>0.013458</td>\n",
       "      <td>TN</td>\n",
       "      <td>2</td>\n",
       "      <td>0.973084</td>\n",
       "    </tr>\n",
       "    <tr>\n",
       "      <th>11590</th>\n",
       "      <td>False</td>\n",
       "      <td>False</td>\n",
       "      <td>0.342777</td>\n",
       "      <td>TN</td>\n",
       "      <td>0</td>\n",
       "      <td>0.314445</td>\n",
       "    </tr>\n",
       "    <tr>\n",
       "      <th>...</th>\n",
       "      <td>...</td>\n",
       "      <td>...</td>\n",
       "      <td>...</td>\n",
       "      <td>...</td>\n",
       "      <td>...</td>\n",
       "      <td>...</td>\n",
       "    </tr>\n",
       "    <tr>\n",
       "      <th>18022</th>\n",
       "      <td>False</td>\n",
       "      <td>False</td>\n",
       "      <td>0.011900</td>\n",
       "      <td>TN</td>\n",
       "      <td>2</td>\n",
       "      <td>0.976201</td>\n",
       "    </tr>\n",
       "    <tr>\n",
       "      <th>12936</th>\n",
       "      <td>False</td>\n",
       "      <td>False</td>\n",
       "      <td>0.007886</td>\n",
       "      <td>TN</td>\n",
       "      <td>2</td>\n",
       "      <td>0.984227</td>\n",
       "    </tr>\n",
       "    <tr>\n",
       "      <th>12576</th>\n",
       "      <td>False</td>\n",
       "      <td>False</td>\n",
       "      <td>0.194083</td>\n",
       "      <td>TN</td>\n",
       "      <td>0</td>\n",
       "      <td>0.611834</td>\n",
       "    </tr>\n",
       "    <tr>\n",
       "      <th>14882</th>\n",
       "      <td>False</td>\n",
       "      <td>False</td>\n",
       "      <td>0.002314</td>\n",
       "      <td>TN</td>\n",
       "      <td>2</td>\n",
       "      <td>0.995373</td>\n",
       "    </tr>\n",
       "    <tr>\n",
       "      <th>1568</th>\n",
       "      <td>False</td>\n",
       "      <td>False</td>\n",
       "      <td>0.043479</td>\n",
       "      <td>TN</td>\n",
       "      <td>2</td>\n",
       "      <td>0.913041</td>\n",
       "    </tr>\n",
       "  </tbody>\n",
       "</table>\n",
       "<p>5796 rows × 6 columns</p>\n",
       "</div>"
      ],
      "text/plain": [
       "       label  pred_label  pred_score pred_type user.type    margin\n",
       "7829   False       False    0.083998        TN         0  0.832004\n",
       "12969  False       False    0.006439        TN         2  0.987122\n",
       "13978  False       False    0.029957        TN         2  0.940086\n",
       "9035   False       False    0.013458        TN         2  0.973084\n",
       "11590  False       False    0.342777        TN         0  0.314445\n",
       "...      ...         ...         ...       ...       ...       ...\n",
       "18022  False       False    0.011900        TN         2  0.976201\n",
       "12936  False       False    0.007886        TN         2  0.984227\n",
       "12576  False       False    0.194083        TN         0  0.611834\n",
       "14882  False       False    0.002314        TN         2  0.995373\n",
       "1568   False       False    0.043479        TN         2  0.913041\n",
       "\n",
       "[5796 rows x 6 columns]"
      ]
     },
     "execution_count": 234,
     "metadata": {},
     "output_type": "execute_result"
    }
   ],
   "source": [
    "df_test"
   ]
  },
  {
   "cell_type": "markdown",
   "metadata": {},
   "source": [
    "## Visualization"
   ]
  },
  {
   "cell_type": "code",
   "execution_count": 235,
   "metadata": {},
   "outputs": [],
   "source": [
    "import matplotlib.pyplot as plt"
   ]
  },
  {
   "cell_type": "code",
   "execution_count": 236,
   "metadata": {},
   "outputs": [
    {
     "data": {
      "image/png": "[encoded data removed]",
      "text/plain": [
       "<Figure size 432x288 with 1 Axes>"
      ]
     },
     "metadata": {
      "needs_background": "light"
     },
     "output_type": "display_data"
    }
   ],
   "source": [
    "# Overall margin\n",
    "plt.hist(x=df_test['margin'], bins=100)\n",
    "plt.xlabel('Margin')\n",
    "plt.ylabel('Frequency')\n",
    "plt.title('Margin distribution for all test data')\n",
    "plt.show()"
   ]
  },
  {
   "cell_type": "markdown",
   "metadata": {},
   "source": [
    "### Margins for different groups of users"
   ]
  },
  {
   "cell_type": "code",
   "execution_count": 237,
   "metadata": {},
   "outputs": [],
   "source": [
    "# Margins for different groups of users\n",
    "df_anon = df_test.loc[df_test['user.type'] == '0'] \n",
    "df_new = df_test.loc[df_test['user.type'] == '1'] \n",
    "df_exp = df_test.loc[df_test['user.type'] == '2']"
   ]
  },
  {
   "cell_type": "code",
   "execution_count": 238,
   "metadata": {},
   "outputs": [
    {
     "data": {
      "image/png": "[encoded data removed]",
      "text/plain": [
       "<Figure size 432x288 with 1 Axes>"
      ]
     },
     "metadata": {
      "needs_background": "light"
     },
     "output_type": "display_data"
    }
   ],
   "source": [
    "# Anon margin\n",
    "plt.hist(x=df_anon['margin'], bins=100)\n",
    "plt.xlabel('Margin')\n",
    "plt.ylabel('Frequency')\n",
    "plt.title('Margin distribution for Anonymous Editors')\n",
    "plt.show()"
   ]
  },
  {
   "cell_type": "code",
   "execution_count": 239,
   "metadata": {},
   "outputs": [
    {
     "data": {
      "image/png": "[encoded data removed]",
      "text/plain": [
       "<Figure size 432x288 with 1 Axes>"
      ]
     },
     "metadata": {
      "needs_background": "light"
     },
     "output_type": "display_data"
    }
   ],
   "source": [
    "# Newcomers margin\n",
    "plt.hist(x=df_new['margin'], bins=100)\n",
    "plt.xlabel('Margin')\n",
    "plt.ylabel('Frequency')\n",
    "plt.title('Margin distribution for Newcomers')\n",
    "plt.show()"
   ]
  },
  {
   "cell_type": "code",
   "execution_count": 240,
   "metadata": {},
   "outputs": [
    {
     "data": {
      "image/png": "[encoded data removed]",
      "text/plain": [
       "<Figure size 432x288 with 1 Axes>"
      ]
     },
     "metadata": {
      "needs_background": "light"
     },
     "output_type": "display_data"
    }
   ],
   "source": [
    "# Experience editors margin\n",
    "plt.hist(x=df_exp['margin'], bins=100)\n",
    "plt.xlabel('Margin')\n",
    "plt.ylabel('Frequency')\n",
    "plt.title('Margin distribution for Experience editors')\n",
    "plt.show()"
   ]
  },
  {
   "cell_type": "markdown",
   "metadata": {},
   "source": [
    "### Margins for different types of predictions"
   ]
  },
  {
   "cell_type": "code",
   "execution_count": 241,
   "metadata": {},
   "outputs": [],
   "source": [
    "# Margins for different types of predictions\n",
    "df_tp = df_test.loc[df_test['pred_type'] == 'TP'] \n",
    "df_tn = df_test.loc[df_test['pred_type'] == 'TN'] \n",
    "df_fp = df_test.loc[df_test['pred_type'] == 'FP'] \n",
    "df_fn = df_test.loc[df_test['pred_type'] == 'FN'] "
   ]
  },
  {
   "cell_type": "code",
   "execution_count": 242,
   "metadata": {},
   "outputs": [
    {
     "data": {
      "image/png": "[encoded data removed]",
      "text/plain": [
       "<Figure size 432x288 with 1 Axes>"
      ]
     },
     "metadata": {
      "needs_background": "light"
     },
     "output_type": "display_data"
    }
   ],
   "source": [
    "# TP margin\n",
    "plt.hist(x=df_tp['margin'], bins=10)\n",
    "plt.xlabel('Margin')\n",
    "plt.ylabel('Frequency')\n",
    "plt.title('Margin distribution for TP cases')\n",
    "plt.show()"
   ]
  },
  {
   "cell_type": "code",
   "execution_count": 243,
   "metadata": {},
   "outputs": [
    {
     "data": {
      "image/png": "[encoded data removed]",
      "text/plain": [
       "<Figure size 432x288 with 1 Axes>"
      ]
     },
     "metadata": {
      "needs_background": "light"
     },
     "output_type": "display_data"
    }
   ],
   "source": [
    "# TN margin\n",
    "plt.hist(x=df_tn['margin'], bins=100)\n",
    "plt.xlabel('Margin')\n",
    "plt.ylabel('Frequency')\n",
    "plt.title('Margin distribution for TN cases')\n",
    "plt.show()"
   ]
  },
  {
   "cell_type": "code",
   "execution_count": 244,
   "metadata": {},
   "outputs": [
    {
     "data": {
      "image/png": "[encoded data removed]",
      "text/plain": [
       "<Figure size 432x288 with 1 Axes>"
      ]
     },
     "metadata": {
      "needs_background": "light"
     },
     "output_type": "display_data"
    }
   ],
   "source": [
    "# FP margin\n",
    "plt.hist(x=df_fp['margin'], bins=10)\n",
    "plt.xlabel('Margin')\n",
    "plt.ylabel('Frequency')\n",
    "plt.title('Margin distribution for FP cases')\n",
    "plt.show()"
   ]
  },
  {
   "cell_type": "code",
   "execution_count": 245,
   "metadata": {},
   "outputs": [
    {
     "data": {
      "image/png": "[encoded data removed]",
      "text/plain": [
       "<Figure size 432x288 with 1 Axes>"
      ]
     },
     "metadata": {
      "needs_background": "light"
     },
     "output_type": "display_data"
    }
   ],
   "source": [
    "# FN margin\n",
    "plt.hist(x=df_fn['margin'], bins=10)\n",
    "plt.xlabel('Margin')\n",
    "plt.ylabel('Frequency')\n",
    "plt.title('Margin distribution for FN cases')\n",
    "plt.show()"
   ]
  },
  {
   "cell_type": "markdown",
   "metadata": {},
   "source": [
    "### Margins for different groups of users with same type of error"
   ]
  },
  {
   "cell_type": "code",
   "execution_count": null,
   "metadata": {},
   "outputs": [],
   "source": []
  }
 ],
 "metadata": {
  "kernelspec": {
   "display_name": "Python 3",
   "language": "python",
   "name": "python3"
  },
  "language_info": {
   "codemirror_mode": {
    "name": "ipython",
    "version": 3
   },
   "file_extension": ".py",
   "mimetype": "text/x-python",
   "name": "python",
   "nbconvert_exporter": "python",
   "pygments_lexer": "ipython3",
   "version": "3.6.7"
  }
 },
 "nbformat": 4,
 "nbformat_minor": 2
}
